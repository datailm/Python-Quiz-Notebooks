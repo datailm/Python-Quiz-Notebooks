{
 "cells": [
  {
   "cell_type": "code",
   "execution_count": 5,
   "id": "f48eb519",
   "metadata": {},
   "outputs": [
    {
     "name": "stdout",
     "output_type": "stream",
     "text": [
      "[1, 2, 1, 2]\n"
     ]
    }
   ],
   "source": [
    "a = {1,2}\n",
    "print(list(a) * 2)"
   ]
  },
  {
   "cell_type": "code",
   "execution_count": 4,
   "id": "798c4c3f",
   "metadata": {},
   "outputs": [
    {
     "name": "stdout",
     "output_type": "stream",
     "text": [
      "False\n"
     ]
    }
   ],
   "source": [
    "print({0,0,1,2,0} == {1,2})"
   ]
  },
  {
   "cell_type": "code",
   "execution_count": 7,
   "id": "a20a3b64",
   "metadata": {},
   "outputs": [
    {
     "name": "stdout",
     "output_type": "stream",
     "text": [
      "1 4\n"
     ]
    }
   ],
   "source": [
    "x, y, z = 1, 4, 7\n",
    "y, z, x = x, y, z\n",
    "if y > x:\n",
    "    print(x, y)\n",
    "else:\n",
    "    print(y, z)"
   ]
  },
  {
   "cell_type": "code",
   "execution_count": 4,
   "id": "8ec97a46",
   "metadata": {},
   "outputs": [
    {
     "name": "stdout",
     "output_type": "stream",
     "text": [
      "Happy Learning\n"
     ]
    }
   ],
   "source": [
    "x = '''print(\"Happy\", end='')\n",
    "print(\" Learning!\")'''\n",
    "exec(x)"
   ]
  },
  {
   "cell_type": "code",
   "execution_count": 6,
   "id": "dc400ee5",
   "metadata": {},
   "outputs": [
    {
     "name": "stdout",
     "output_type": "stream",
     "text": [
      "5\n",
      "1 0 3\n"
     ]
    }
   ],
   "source": [
    "a, i = 5, 1\n",
    "while a:\n",
    "    x = a % i\n",
    "    i = i + 1\n",
    "    a = a - i\n",
    "print(x, a, i)    "
   ]
  },
  {
   "cell_type": "code",
   "execution_count": 2,
   "id": "f3ab63a9",
   "metadata": {},
   "outputs": [
    {
     "name": "stdout",
     "output_type": "stream",
     "text": [
      "[-1, -2, -2]\n"
     ]
    }
   ],
   "source": [
    "a = [1,3,4]\n",
    "b = [2,5,6]\n",
    "c = [(y-x) for (y,x) in zip(a,b)]\n",
    "print(c)"
   ]
  },
  {
   "cell_type": "code",
   "execution_count": 66,
   "id": "abfebb2e",
   "metadata": {},
   "outputs": [
    {
     "name": "stdout",
     "output_type": "stream",
     "text": [
      "Python\n"
     ]
    }
   ],
   "source": [
    "class Name:\n",
    "    def __init__(self, name):\n",
    "        self.name = name\n",
    "class Course:\n",
    "    def __init__(self, name, course):\n",
    "        self.course = course\n",
    "        Name.__init__ (self, name)\n",
    "student = Course(\"Python\",\"Bill\")\n",
    "print(student.name)"
   ]
  },
  {
   "cell_type": "code",
   "execution_count": 5,
   "id": "275cc049",
   "metadata": {},
   "outputs": [
    {
     "name": "stdout",
     "output_type": "stream",
     "text": [
      "0\n"
     ]
    }
   ],
   "source": [
    "import math\n",
    "x = math.floor(13/5)\n",
    "y = math.ceil(23/3)\n",
    "print(y % x)"
   ]
  }
 ],
 "metadata": {
  "kernelspec": {
   "display_name": "Python 3 (ipykernel)",
   "language": "python",
   "name": "python3"
  },
  "language_info": {
   "codemirror_mode": {
    "name": "ipython",
    "version": 3
   },
   "file_extension": ".py",
   "mimetype": "text/x-python",
   "name": "python",
   "nbconvert_exporter": "python",
   "pygments_lexer": "ipython3",
   "version": "3.9.7"
  }
 },
 "nbformat": 4,
 "nbformat_minor": 5
}
