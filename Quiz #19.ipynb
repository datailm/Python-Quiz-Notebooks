{
 "cells": [
  {
   "cell_type": "code",
   "execution_count": 12,
   "id": "1a4b7523",
   "metadata": {},
   "outputs": [
    {
     "data": {
      "text/plain": [
       "625"
      ]
     },
     "execution_count": 12,
     "metadata": {},
     "output_type": "execute_result"
    }
   ],
   "source": [
    "a = lambda x,y : x**y\n",
    "(x, y) = (4,5)\n",
    "a(y,x)"
   ]
  },
  {
   "cell_type": "code",
   "execution_count": 5,
   "id": "a14235a5",
   "metadata": {
    "scrolled": true
   },
   "outputs": [
    {
     "name": "stdout",
     "output_type": "stream",
     "text": [
      "Get Set Get Go\n"
     ]
    }
   ],
   "source": [
    "a = '{0} {1} {0} {2}'\n",
    "print(a.format('Get', 'Set', 'Go'))"
   ]
  },
  {
   "cell_type": "code",
   "execution_count": 6,
   "id": "368d9f0a",
   "metadata": {},
   "outputs": [
    {
     "name": "stdout",
     "output_type": "stream",
     "text": [
      "---Hi!---- How are you?\n"
     ]
    }
   ],
   "source": [
    "b = '{0:-^10} How are you?'\n",
    "print(b.format('Hi!'))"
   ]
  },
  {
   "cell_type": "code",
   "execution_count": 7,
   "id": "4bda6683",
   "metadata": {},
   "outputs": [
    {
     "name": "stdout",
     "output_type": "stream",
     "text": [
      "{Have} a good day!\n"
     ]
    }
   ],
   "source": [
    "x = '{{{0}}} a good day!'\n",
    "print(x.format('Have'))"
   ]
  }
 ],
 "metadata": {
  "kernelspec": {
   "display_name": "Python 3 (ipykernel)",
   "language": "python",
   "name": "python3"
  },
  "language_info": {
   "codemirror_mode": {
    "name": "ipython",
    "version": 3
   },
   "file_extension": ".py",
   "mimetype": "text/x-python",
   "name": "python",
   "nbconvert_exporter": "python",
   "pygments_lexer": "ipython3",
   "version": "3.9.7"
  }
 },
 "nbformat": 4,
 "nbformat_minor": 5
}
