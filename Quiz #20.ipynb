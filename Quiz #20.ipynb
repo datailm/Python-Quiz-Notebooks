{
 "cells": [
  {
   "cell_type": "code",
   "execution_count": 11,
   "id": "3f420b44",
   "metadata": {},
   "outputs": [
    {
     "name": "stdout",
     "output_type": "stream",
     "text": [
      "123.4568\n"
     ]
    }
   ],
   "source": [
    "a = '{0:8.4f}'\n",
    "print(a.format(123.4567890))"
   ]
  },
  {
   "cell_type": "code",
   "execution_count": 6,
   "id": "3c16709a",
   "metadata": {},
   "outputs": [
    {
     "name": "stdout",
     "output_type": "stream",
     "text": [
      "TATA\n"
     ]
    }
   ],
   "source": [
    "def car(*cars):\n",
    "    print(cars[2])\n",
    "car('Benz', 'BMW', 'TATA', 'Honda')    "
   ]
  },
  {
   "cell_type": "code",
   "execution_count": 6,
   "id": "43093a66",
   "metadata": {},
   "outputs": [
    {
     "data": {
      "text/plain": [
       "('a', 'b', 'a')"
      ]
     },
     "execution_count": 6,
     "metadata": {},
     "output_type": "execute_result"
    }
   ],
   "source": [
    "a = ['a', 'b', 'c', 'a']\n",
    "b = (x for x in a if x in a)\n",
    "a = ['a', 'e', 'i','b']\n",
    "tuple(b)"
   ]
  },
  {
   "cell_type": "code",
   "execution_count": 4,
   "id": "6b9c8a40",
   "metadata": {},
   "outputs": [
    {
     "name": "stdout",
     "output_type": "stream",
     "text": [
      "Lorem Ipsum is simply dummy text of the printing and typesetting industry. \n",
      "Lorem Ipsum has been the\n"
     ]
    }
   ],
   "source": [
    "f = open('sample.txt')\n",
    "data = f.read(100)\n",
    "print(data)"
   ]
  },
  {
   "cell_type": "code",
   "execution_count": 9,
   "id": "4f947854",
   "metadata": {},
   "outputs": [
    {
     "name": "stdout",
     "output_type": "stream",
     "text": [
      "['Lorem Ipsum is simply dummy text of the printing and typesetting industry. \\n', \"Lorem Ipsum has been the industry's standard dummy text ever since the 1500s, \\n\", 'when an unknown printer took a galley of type and scrambled it to make a type specimen book. \\n', 'It has survived not only five centuries, but also the leap into electronic typesetting, remaining essentially unchanged. \\n', 'It was popularised in the 1960s with the release of Letraset sheets containing Lorem Ipsum passages, \\n', 'and more recently with desktop publishing software like Aldus PageMaker including versions of Lorem Ipsum.']\n"
     ]
    }
   ],
   "source": [
    "f = open('sample.txt')\n",
    "line = f.readlines()\n",
    "print(line)"
   ]
  },
  {
   "cell_type": "code",
   "execution_count": 10,
   "id": "06f70df1",
   "metadata": {},
   "outputs": [
    {
     "name": "stdout",
     "output_type": "stream",
     "text": [
      "Lorem Ipsum is simply dummy text of the printing and typesetting industry. \n",
      "\n",
      "Lorem Ipsum has been the industry's standard dummy text ever since the 1500s, \n",
      "\n",
      "when an unknown printer took a galley of type and scrambled it to make a type specimen book. \n",
      "\n",
      "It has survived not only five centuries, but also the leap into electronic typesetting, remaining essentially unchanged. \n",
      "\n",
      "It was popularised in the 1960s with the release of Letraset sheets containing Lorem Ipsum passages, \n",
      "\n",
      "and more recently with desktop publishing software like Aldus PageMaker including versions of Lorem Ipsum.\n"
     ]
    }
   ],
   "source": [
    "f = open('sample.txt')\n",
    "line = f.readlines()\n",
    "for l in line:\n",
    "    print(l)"
   ]
  }
 ],
 "metadata": {
  "kernelspec": {
   "display_name": "Python 3 (ipykernel)",
   "language": "python",
   "name": "python3"
  },
  "language_info": {
   "codemirror_mode": {
    "name": "ipython",
    "version": 3
   },
   "file_extension": ".py",
   "mimetype": "text/x-python",
   "name": "python",
   "nbconvert_exporter": "python",
   "pygments_lexer": "ipython3",
   "version": "3.9.7"
  }
 },
 "nbformat": 4,
 "nbformat_minor": 5
}
