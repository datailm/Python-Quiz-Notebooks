{
 "cells": [
  {
   "cell_type": "markdown",
   "id": "2d566120",
   "metadata": {},
   "source": [
    "<h1 style=\"color:Tomato;\">NEW MCQ</h1>"
   ]
  },
  {
   "cell_type": "code",
   "execution_count": 1,
   "id": "6002e878",
   "metadata": {},
   "outputs": [
    {
     "name": "stdout",
     "output_type": "stream",
     "text": [
      "{'a': 1, 'b': 2, 'c': 3}\n"
     ]
    }
   ],
   "source": [
    "x = {'a':1, 'b':2}\n",
    "y = {'a':1, 'c':3}\n",
    "z = x | y\n",
    "print(z)"
   ]
  },
  {
   "cell_type": "code",
   "execution_count": 1,
   "id": "b03bf0ef",
   "metadata": {},
   "outputs": [
    {
     "name": "stdout",
     "output_type": "stream",
     "text": [
      "Yes\n"
     ]
    }
   ],
   "source": [
    "x = 'None'\n",
    "if bool(x):\n",
    "    print('Yes')\n",
    "else:\n",
    "    print('No')"
   ]
  },
  {
   "cell_type": "code",
   "execution_count": 5,
   "id": "597f4aea",
   "metadata": {},
   "outputs": [
    {
     "name": "stdout",
     "output_type": "stream",
     "text": [
      "3\n",
      "['red', 'green', 'bluepurple']\n"
     ]
    }
   ],
   "source": [
    "colors = [\n",
    "    \"red\",\n",
    "    \"green\",\n",
    "    \"blue\"\n",
    "    \"purple\",\n",
    "]\n",
    "print(len(colors))\n",
    "print(colors)"
   ]
  },
  {
   "cell_type": "code",
   "execution_count": 7,
   "id": "94db9a8a",
   "metadata": {},
   "outputs": [
    {
     "name": "stdout",
     "output_type": "stream",
     "text": [
      "Yes!\n"
     ]
    }
   ],
   "source": [
    "x = 5\n",
    "y = 7\n",
    "if x == 5 and y == 7:\n",
    "    print('Yes!')"
   ]
  },
  {
   "cell_type": "code",
   "execution_count": 7,
   "id": "c90a6431",
   "metadata": {},
   "outputs": [
    {
     "name": "stdout",
     "output_type": "stream",
     "text": [
      "{'Chennai': 7}\n"
     ]
    }
   ],
   "source": [
    "x = {name: len(name) for name in ('Chennai', 'Mumbai', 'Delhi') if len(name) > 6}\n",
    "print(x)"
   ]
  },
  {
   "cell_type": "code",
   "execution_count": 4,
   "id": "81ddf6d6",
   "metadata": {},
   "outputs": [
    {
     "name": "stdout",
     "output_type": "stream",
     "text": [
      "type is Sedan\n"
     ]
    }
   ],
   "source": [
    "class Car:\n",
    "    def type():\n",
    "        print('type is Sedan')\n",
    "Car.type()"
   ]
  },
  {
   "cell_type": "code",
   "execution_count": 8,
   "id": "7df0ef66",
   "metadata": {},
   "outputs": [
    {
     "name": "stdout",
     "output_type": "stream",
     "text": [
      "4\n"
     ]
    }
   ],
   "source": [
    "a = pow(5,3,3)\n",
    "b = pow(3,3,5)\n",
    "print(a + b)"
   ]
  },
  {
   "cell_type": "code",
   "execution_count": 3,
   "id": "173a985f",
   "metadata": {},
   "outputs": [
    {
     "name": "stdout",
     "output_type": "stream",
     "text": [
      "5.54\n"
     ]
    }
   ],
   "source": [
    "a = int(1.99)\n",
    "b = float(2.54)\n",
    "c = int(b)\n",
    "print(a+b+c)"
   ]
  },
  {
   "cell_type": "code",
   "execution_count": 1,
   "id": "a6fe699a",
   "metadata": {},
   "outputs": [
    {
     "name": "stdout",
     "output_type": "stream",
     "text": [
      "True\n"
     ]
    }
   ],
   "source": [
    "x = 5\n",
    "y = 7\n",
    "z = 9\n",
    "print( (x > y) or (y < z))"
   ]
  },
  {
   "cell_type": "code",
   "execution_count": 4,
   "id": "1916b09e",
   "metadata": {},
   "outputs": [
    {
     "data": {
      "text/plain": [
       "True"
      ]
     },
     "execution_count": 4,
     "metadata": {},
     "output_type": "execute_result"
    }
   ],
   "source": [
    "a = 3\n",
    "b = 4\n",
    "c = 8\n",
    "any([a > b, b < c, c < a])"
   ]
  }
 ],
 "metadata": {
  "kernelspec": {
   "display_name": "Python 3 (ipykernel)",
   "language": "python",
   "name": "python3"
  },
  "language_info": {
   "codemirror_mode": {
    "name": "ipython",
    "version": 3
   },
   "file_extension": ".py",
   "mimetype": "text/x-python",
   "name": "python",
   "nbconvert_exporter": "python",
   "pygments_lexer": "ipython3",
   "version": "3.9.7"
  }
 },
 "nbformat": 4,
 "nbformat_minor": 5
}
