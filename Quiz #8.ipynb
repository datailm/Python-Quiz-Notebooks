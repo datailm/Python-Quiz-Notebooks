{
 "cells": [
  {
   "cell_type": "code",
   "execution_count": null,
   "metadata": {},
   "outputs": [],
   "source": [
    "import heapq\n",
    "marks = {85, 45, 54, 97, 65, 87}\n",
    "heapq.nlargest(4, marks)\n",
    "heapq.nsmallest(4, marks)"
   ]
  },
  {
   "cell_type": "code",
   "execution_count": 27,
   "metadata": {},
   "outputs": [
    {
     "name": "stdout",
     "output_type": "stream",
     "text": [
      "[0, 2, 1]\n"
     ]
    }
   ],
   "source": [
    "from random import *\n",
    "print(sample(range(0,3), 3))"
   ]
  },
  {
   "cell_type": "code",
   "execution_count": 1,
   "metadata": {},
   "outputs": [
    {
     "name": "stdout",
     "output_type": "stream",
     "text": [
      "Enter your age:15\n",
      "<class 'str'>\n"
     ]
    }
   ],
   "source": [
    "age = input('Enter your age:')\n",
    "print(type(age))"
   ]
  },
  {
   "cell_type": "code",
   "execution_count": 4,
   "metadata": {
    "scrolled": true
   },
   "outputs": [
    {
     "name": "stdout",
     "output_type": "stream",
     "text": [
      "b a d c f e "
     ]
    }
   ],
   "source": [
    "x = {'a':'b', 'c':'d', 'e':'f'}\n",
    "for j, i in x.items():\n",
    "    print(i, j, end=' ')"
   ]
  },
  {
   "cell_type": "code",
   "execution_count": 12,
   "metadata": {},
   "outputs": [
    {
     "name": "stdout",
     "output_type": "stream",
     "text": [
      "<map object at 0x0000023158A4C5E0>\n"
     ]
    }
   ],
   "source": [
    "x = ['a','b','c']\n",
    "y = map(str.upper, x)\n",
    "print(y)"
   ]
  },
  {
   "cell_type": "code",
   "execution_count": 13,
   "metadata": {},
   "outputs": [
    {
     "name": "stdout",
     "output_type": "stream",
     "text": [
      "[6, 10, 14]\n"
     ]
    }
   ],
   "source": [
    "x = (3, 5, 7)\n",
    "y = list(map(lambda x, y: x + y, x, y))\n",
    "print(y)"
   ]
  },
  {
   "cell_type": "code",
   "execution_count": 5,
   "metadata": {},
   "outputs": [
    {
     "name": "stdout",
     "output_type": "stream",
     "text": [
      "Enter a number:13456\n",
      "The total sum of digits is: 19\n"
     ]
    }
   ],
   "source": [
    "n=int(input('Enter a number:'))\n",
    "total=0\n",
    "while(n>0):\n",
    "    digit=n%10\n",
    "    total=total+digit\n",
    "    n=n//10\n",
    "print('The total sum of digits is:',total)"
   ]
  },
  {
   "cell_type": "code",
   "execution_count": 2,
   "metadata": {},
   "outputs": [
    {
     "name": "stdout",
     "output_type": "stream",
     "text": [
      "{'a': 10, 'b': 20}\n"
     ]
    }
   ],
   "source": [
    "a = ['a', 10, 'b', 20]\n",
    "b = {a[i]:a[i+1] for i in range(0, len(a), 2)}\n",
    "print(b)"
   ]
  }
 ],
 "metadata": {
  "kernelspec": {
   "display_name": "Python 3",
   "language": "python",
   "name": "python3"
  },
  "language_info": {
   "codemirror_mode": {
    "name": "ipython",
    "version": 3
   },
   "file_extension": ".py",
   "mimetype": "text/x-python",
   "name": "python",
   "nbconvert_exporter": "python",
   "pygments_lexer": "ipython3",
   "version": "3.8.5"
  }
 },
 "nbformat": 4,
 "nbformat_minor": 4
}
