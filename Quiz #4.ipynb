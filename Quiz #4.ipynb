{
 "cells": [
  {
   "cell_type": "code",
   "execution_count": 7,
   "metadata": {},
   "outputs": [
    {
     "name": "stdout",
     "output_type": "stream",
     "text": [
      "112212"
     ]
    }
   ],
   "source": [
    "x = 1\n",
    "while x < 3:\n",
    "    print(x, end='')\n",
    "    x += 1\n",
    "    y = 1\n",
    "    while y < 3:\n",
    "        print(y, end =\"\")\n",
    "        y += 1"
   ]
  },
  {
   "cell_type": "code",
   "execution_count": 4,
   "metadata": {},
   "outputs": [
    {
     "name": "stdout",
     "output_type": "stream",
     "text": [
      "400"
     ]
    }
   ],
   "source": [
    "def mul(x, y, z=10):\n",
    "    print(x * y * z, end ='')\n",
    "a, b, c = 5, 4, 8\n",
    "mul(a, c)"
   ]
  },
  {
   "cell_type": "code",
   "execution_count": 23,
   "metadata": {},
   "outputs": [
    {
     "data": {
      "text/plain": [
       "{2, 3, 4, 5}"
      ]
     },
     "execution_count": 23,
     "metadata": {},
     "output_type": "execute_result"
    }
   ],
   "source": [
    "a = {2, 3, 4, 5, 6}\n",
    "b = {1, 2, 3, 4, 5}\n",
    "a.intersection(b)"
   ]
  },
  {
   "cell_type": "code",
   "execution_count": 7,
   "metadata": {},
   "outputs": [
    {
     "name": "stdout",
     "output_type": "stream",
     "text": [
      "24\n"
     ]
    }
   ],
   "source": [
    "def arth(x=2, y =4):\n",
    "    print(x**y*y)\n",
    "arth(y=3)    "
   ]
  },
  {
   "cell_type": "code",
   "execution_count": 18,
   "metadata": {},
   "outputs": [
    {
     "name": "stdout",
     "output_type": "stream",
     "text": [
      "Enter a string: racecar\n",
      "The string is palindrome\n"
     ]
    }
   ],
   "source": [
    "string = input('Enter a string: ')\n",
    "if(string == string[::-1]):\n",
    "    print('The string is palindrome')\n",
    "else:\n",
    "    print('The string is not palindrome')"
   ]
  },
  {
   "cell_type": "code",
   "execution_count": 2,
   "metadata": {},
   "outputs": [
    {
     "name": "stdout",
     "output_type": "stream",
     "text": [
      "{'x': 1, 'y': 1, 'z': 1}\n"
     ]
    }
   ],
   "source": [
    "d = {k:1 for k in 'xyz'}\n",
    "print(d)"
   ]
  },
  {
   "cell_type": "code",
   "execution_count": 2,
   "metadata": {},
   "outputs": [
    {
     "name": "stdout",
     "output_type": "stream",
     "text": [
      "False\n"
     ]
    }
   ],
   "source": [
    "d = { }\n",
    "if d:\n",
    "    print(True)\n",
    "else:\n",
    "    print(False)"
   ]
  },
  {
   "cell_type": "code",
   "execution_count": 6,
   "metadata": {},
   "outputs": [
    {
     "name": "stdout",
     "output_type": "stream",
     "text": [
      "1223"
     ]
    }
   ],
   "source": [
    "def func(*x):\n",
    "    for i in x:\n",
    "        print(i//2, end='')\n",
    "func(3,4,5,6)"
   ]
  },
  {
   "cell_type": "code",
   "execution_count": 4,
   "metadata": {},
   "outputs": [
    {
     "name": "stdout",
     "output_type": "stream",
     "text": [
      "True\n",
      "False\n"
     ]
    }
   ],
   "source": [
    "def dcheck(list):\n",
    " if len(list) == len(set(list)):\n",
    "   return True\n",
    " else:\n",
    "   return False\n",
    "print(dcheck([1,6,5,8]))     #Prints True\n",
    "print(dcheck([2,2,5,5,7,8])) #Prints False"
   ]
  },
  {
   "cell_type": "code",
   "execution_count": 2,
   "metadata": {},
   "outputs": [
    {
     "name": "stdout",
     "output_type": "stream",
     "text": [
      "[[0, 3, 6], [1, 4, 7], [2, 5, 8]]\n"
     ]
    }
   ],
   "source": [
    "a = []\n",
    "b = [[0, 1, 2], [3, 4, 5], [6, 7, 8]]\n",
    "for i in range(3):\n",
    "    a.append([row[i] for row in b])\n",
    "print(a)"
   ]
  }
 ],
 "metadata": {
  "kernelspec": {
   "display_name": "Python 3",
   "language": "python",
   "name": "python3"
  },
  "language_info": {
   "codemirror_mode": {
    "name": "ipython",
    "version": 3
   },
   "file_extension": ".py",
   "mimetype": "text/x-python",
   "name": "python",
   "nbconvert_exporter": "python",
   "pygments_lexer": "ipython3",
   "version": "3.8.5"
  }
 },
 "nbformat": 4,
 "nbformat_minor": 4
}
