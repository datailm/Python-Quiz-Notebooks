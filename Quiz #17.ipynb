{
 "cells": [
  {
   "cell_type": "code",
   "execution_count": 2,
   "id": "aef9e8cb",
   "metadata": {},
   "outputs": [
    {
     "ename": "TypeError",
     "evalue": "__init__() missing 1 required positional argument: 'type'",
     "output_type": "error",
     "traceback": [
      "\u001b[1;31m---------------------------------------------------------------------------\u001b[0m",
      "\u001b[1;31mTypeError\u001b[0m                                 Traceback (most recent call last)",
      "\u001b[1;32mC:\\Users\\ADMIN~1.CHE\\AppData\\Local\\Temp/ipykernel_9112/4108000224.py\u001b[0m in \u001b[0;36m<module>\u001b[1;34m\u001b[0m\n\u001b[0;32m      2\u001b[0m     \u001b[1;32mdef\u001b[0m \u001b[0m__init__\u001b[0m\u001b[1;33m(\u001b[0m\u001b[0mself\u001b[0m\u001b[1;33m,\u001b[0m\u001b[0mtype\u001b[0m\u001b[1;33m)\u001b[0m\u001b[1;33m:\u001b[0m\u001b[1;33m\u001b[0m\u001b[1;33m\u001b[0m\u001b[0m\n\u001b[0;32m      3\u001b[0m         \u001b[0mself\u001b[0m\u001b[1;33m.\u001b[0m\u001b[0mtype\u001b[0m \u001b[1;33m=\u001b[0m \u001b[0mtype\u001b[0m\u001b[1;33m\u001b[0m\u001b[1;33m\u001b[0m\u001b[0m\n\u001b[1;32m----> 4\u001b[1;33m \u001b[0mcar1\u001b[0m \u001b[1;33m=\u001b[0m \u001b[0mCar\u001b[0m\u001b[1;33m(\u001b[0m\u001b[1;33m)\u001b[0m\u001b[1;33m\u001b[0m\u001b[1;33m\u001b[0m\u001b[0m\n\u001b[0m\u001b[0;32m      5\u001b[0m \u001b[0mcar2\u001b[0m \u001b[1;33m=\u001b[0m \u001b[0mcar1\u001b[0m\u001b[1;33m.\u001b[0m\u001b[0mtype\u001b[0m\u001b[1;33m\u001b[0m\u001b[1;33m\u001b[0m\u001b[0m\n\u001b[0;32m      6\u001b[0m \u001b[0mprint\u001b[0m\u001b[1;33m(\u001b[0m\u001b[0mcar2\u001b[0m\u001b[1;33m.\u001b[0m\u001b[0mtype\u001b[0m\u001b[1;33m)\u001b[0m\u001b[1;33m\u001b[0m\u001b[1;33m\u001b[0m\u001b[0m\n",
      "\u001b[1;31mTypeError\u001b[0m: __init__() missing 1 required positional argument: 'type'"
     ]
    }
   ],
   "source": [
    "class Car:\n",
    "    def __init__(self,type):\n",
    "        self.type = type\n",
    "car1 = Car(\"Sedan\")\n",
    "car2 = car1.type\n",
    "print(car2.type)"
   ]
  },
  {
   "cell_type": "code",
   "execution_count": 2,
   "id": "78d97a48",
   "metadata": {},
   "outputs": [
    {
     "name": "stdout",
     "output_type": "stream",
     "text": [
      "Sunday\n"
     ]
    }
   ],
   "source": [
    "class Day:\n",
    "    def __init__(self,day):\n",
    "        self.day = day\n",
    "    def new(self):\n",
    "        self.day = Day(\"Sunday\")\n",
    "d = Day('Saturday')\n",
    "d.new()\n",
    "print(d.day.day)"
   ]
  },
  {
   "cell_type": "code",
   "execution_count": 23,
   "id": "ed6854f6",
   "metadata": {},
   "outputs": [
    {
     "name": "stdout",
     "output_type": "stream",
     "text": [
      "5 1\n"
     ]
    }
   ],
   "source": [
    "class A:\n",
    "    def __init__(self, x=1):\n",
    "        self.x = x\n",
    "class B(A):\n",
    "    def __init__(self, y=2):\n",
    "        self.y = y\n",
    "        super().__init__()\n",
    "obj = B(5)\n",
    "print(obj.y, obj.x)"
   ]
  },
  {
   "cell_type": "code",
   "execution_count": 12,
   "id": "b72deff3",
   "metadata": {},
   "outputs": [
    {
     "name": "stdout",
     "output_type": "stream",
     "text": [
      "4\n"
     ]
    },
    {
     "data": {
      "text/plain": [
       "<__main__.A at 0x2737de10f70>"
      ]
     },
     "execution_count": 12,
     "metadata": {},
     "output_type": "execute_result"
    }
   ],
   "source": [
    "class A:\n",
    "    def __init__(self, a):\n",
    "        pass\n",
    "        self.a = a\n",
    "        print(a)\n",
    "A(4)"
   ]
  },
  {
   "cell_type": "code",
   "execution_count": 6,
   "id": "98b84641",
   "metadata": {},
   "outputs": [
    {
     "name": "stdout",
     "output_type": "stream",
     "text": [
      "7\n"
     ]
    }
   ],
   "source": [
    "class B:\n",
    "    def __init__(self):\n",
    "        self.x = 2\n",
    "    def change(self):\n",
    "        self.x = 3\n",
    "class C(B):\n",
    "    def change(self):\n",
    "        self.x = self.x + 5\n",
    "        return self.x\n",
    "def main():\n",
    "    a = C()\n",
    "    print(a.change())\n",
    "main()"
   ]
  },
  {
   "cell_type": "code",
   "execution_count": 9,
   "id": "56e2f023",
   "metadata": {},
   "outputs": [
    {
     "name": "stdout",
     "output_type": "stream",
     "text": [
      "City Honda "
     ]
    }
   ],
   "source": [
    "class Car:\n",
    "    def brand(self):\n",
    "        print(\"Honda\",end=' ')\n",
    "\n",
    "    def model(self):\n",
    "        print(\"City\",end=' ')\n",
    "\n",
    "class Brand(Car):\n",
    "    def brand(self):\n",
    "        print(\"Toyota\",end=' ')\n",
    "\n",
    "class Model(Car):\n",
    "    def model(self):\n",
    "        print(\"Camry\",end=' ')\n",
    "        \n",
    "car1 = Car()\n",
    "car1_br = Brand()\n",
    "car1_mod = Model()\n",
    "\n",
    "#car1.brand()\n",
    "#car1.model()\n",
    "\n",
    "#car1_br.brand()\n",
    "car1_br.model()\n",
    "car1_mod.brand()\n",
    "#car1_mod.model()"
   ]
  }
 ],
 "metadata": {
  "kernelspec": {
   "display_name": "Python 3 (ipykernel)",
   "language": "python",
   "name": "python3"
  },
  "language_info": {
   "codemirror_mode": {
    "name": "ipython",
    "version": 3
   },
   "file_extension": ".py",
   "mimetype": "text/x-python",
   "name": "python",
   "nbconvert_exporter": "python",
   "pygments_lexer": "ipython3",
   "version": "3.9.7"
  }
 },
 "nbformat": 4,
 "nbformat_minor": 5
}
